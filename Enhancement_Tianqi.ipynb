{
 "cells": [
  {
   "cell_type": "markdown",
   "metadata": {},
   "source": [
    "# Enhancement"
   ]
  },
  {
   "cell_type": "markdown",
   "metadata": {},
   "source": [
    "## 1. Retrieve Data from MongoDB\n",
    "Retreive all documents from MongoDB and convrt it to a `pandas.DataFrame`"
   ]
  },
  {
   "cell_type": "code",
   "execution_count": 3,
   "metadata": {},
   "outputs": [],
   "source": [
    "import pymongo\n",
    "\n",
    "client = pymongo.MongoClient()"
   ]
  },
  {
   "cell_type": "code",
   "execution_count": 4,
   "metadata": {},
   "outputs": [
    {
     "data": {
      "text/html": [
       "<div>\n",
       "<style scoped>\n",
       "    .dataframe tbody tr th:only-of-type {\n",
       "        vertical-align: middle;\n",
       "    }\n",
       "\n",
       "    .dataframe tbody tr th {\n",
       "        vertical-align: top;\n",
       "    }\n",
       "\n",
       "    .dataframe thead th {\n",
       "        text-align: right;\n",
       "    }\n",
       "</style>\n",
       "<table border=\"1\" class=\"dataframe\">\n",
       "  <thead>\n",
       "    <tr style=\"text-align: right;\">\n",
       "      <th></th>\n",
       "      <th>date</th>\n",
       "      <th>cases</th>\n",
       "      <th>deaths</th>\n",
       "    </tr>\n",
       "  </thead>\n",
       "  <tbody>\n",
       "    <tr>\n",
       "      <th>0</th>\n",
       "      <td>2020-01-21</td>\n",
       "      <td>1</td>\n",
       "      <td>0</td>\n",
       "    </tr>\n",
       "    <tr>\n",
       "      <th>1</th>\n",
       "      <td>2020-01-22</td>\n",
       "      <td>1</td>\n",
       "      <td>0</td>\n",
       "    </tr>\n",
       "    <tr>\n",
       "      <th>2</th>\n",
       "      <td>2020-01-23</td>\n",
       "      <td>1</td>\n",
       "      <td>0</td>\n",
       "    </tr>\n",
       "    <tr>\n",
       "      <th>3</th>\n",
       "      <td>2020-01-24</td>\n",
       "      <td>2</td>\n",
       "      <td>0</td>\n",
       "    </tr>\n",
       "    <tr>\n",
       "      <th>4</th>\n",
       "      <td>2020-01-25</td>\n",
       "      <td>3</td>\n",
       "      <td>0</td>\n",
       "    </tr>\n",
       "    <tr>\n",
       "      <th>...</th>\n",
       "      <td>...</td>\n",
       "      <td>...</td>\n",
       "      <td>...</td>\n",
       "    </tr>\n",
       "    <tr>\n",
       "      <th>315</th>\n",
       "      <td>2020-12-01</td>\n",
       "      <td>13799415</td>\n",
       "      <td>270633</td>\n",
       "    </tr>\n",
       "    <tr>\n",
       "      <th>316</th>\n",
       "      <td>2020-12-02</td>\n",
       "      <td>13999749</td>\n",
       "      <td>273518</td>\n",
       "    </tr>\n",
       "    <tr>\n",
       "      <th>317</th>\n",
       "      <td>2020-12-03</td>\n",
       "      <td>14217106</td>\n",
       "      <td>276375</td>\n",
       "    </tr>\n",
       "    <tr>\n",
       "      <th>318</th>\n",
       "      <td>2020-12-04</td>\n",
       "      <td>14446183</td>\n",
       "      <td>279012</td>\n",
       "    </tr>\n",
       "    <tr>\n",
       "      <th>319</th>\n",
       "      <td>2020-12-05</td>\n",
       "      <td>14651696</td>\n",
       "      <td>281202</td>\n",
       "    </tr>\n",
       "  </tbody>\n",
       "</table>\n",
       "<p>320 rows × 3 columns</p>\n",
       "</div>"
      ],
      "text/plain": [
       "          date     cases  deaths\n",
       "0   2020-01-21         1       0\n",
       "1   2020-01-22         1       0\n",
       "2   2020-01-23         1       0\n",
       "3   2020-01-24         2       0\n",
       "4   2020-01-25         3       0\n",
       "..         ...       ...     ...\n",
       "315 2020-12-01  13799415  270633\n",
       "316 2020-12-02  13999749  273518\n",
       "317 2020-12-03  14217106  276375\n",
       "318 2020-12-04  14446183  279012\n",
       "319 2020-12-05  14651696  281202\n",
       "\n",
       "[320 rows x 3 columns]"
      ]
     },
     "execution_count": 4,
     "metadata": {},
     "output_type": "execute_result"
    }
   ],
   "source": [
    "import pandas as pd\n",
    "db = client.get_database(\"covid-us\")\n",
    "collection = db.get_collection(\"covid-us\")\n",
    "data = list(collection.find())\n",
    "df = pd.DataFrame.from_records(data)  \n",
    "df.drop('_id', axis=1, inplace=True)\n",
    "# print(df.head())\n",
    "# print(df.info())\n",
    "df"
   ]
  },
  {
   "cell_type": "code",
   "execution_count": 5,
   "metadata": {},
   "outputs": [],
   "source": [
    "from sklearn.pipeline import make_pipeline\n",
    "from sklearn.preprocessing import LabelEncoder\n",
    "from sklearn.datasets import make_regression\n",
    "from sklearn.ensemble import GradientBoostingRegressor\n",
    "from sklearn.preprocessing import StandardScaler\n",
    "from sklearn.compose import ColumnTransformer\n",
    "from sklearn.pipeline import Pipeline\n",
    "from sklearn.preprocessing import OneHotEncoder\n",
    "import matplotlib.pylab as plt\n",
    "import numpy as np\n",
    "from sklearn.impute import SimpleImputer\n",
    "from sklearn.preprocessing import OrdinalEncoder\n",
    "from sklearn.model_selection import train_test_split\n",
    "from sklearn.linear_model import LinearRegression\n",
    "import statsmodels.api as sm\n"
   ]
  },
  {
   "cell_type": "code",
   "execution_count": 6,
   "metadata": {},
   "outputs": [],
   "source": [
    "def determine_d(y, thresh):\n",
    "    X = np.linspace(0,len(y)-1,len(y))\n",
    "    X = X.reshape(-1,1)\n",
    "    reg = LinearRegression().fit(X, y)\n",
    "    if np.sqrt(reg.score(X,y)) < thresh:\n",
    "        return 1\n",
    "    else:\n",
    "        return 2"
   ]
  },
  {
   "cell_type": "code",
   "execution_count": 7,
   "metadata": {},
   "outputs": [],
   "source": [
    "def determine_p(y, thresh):\n",
    "    y_len = len(y)\n",
    "    y_mean = np.mean(y)\n",
    "    y_var = np.var(y)\n",
    "    p = 0\n",
    "    y2 = y[y_len-1]\n",
    "    y2_var = y2/y_var\n",
    "    while True:\n",
    "        y1 = y[y_len-1-p]\n",
    "        pacf = y1*y2_var\n",
    "        if  pacf > thresh:\n",
    "            p += 1\n",
    "        if p >= 5:\n",
    "            break\n",
    "    return min(max(1,p-1),5)"
   ]
  },
  {
   "cell_type": "code",
   "execution_count": 8,
   "metadata": {},
   "outputs": [],
   "source": [
    "def determine_q(y, thresh):\n",
    "    y_len = len(y)\n",
    "    autocorr_list = np.correlate(y[y_len-10:y_len-1], y[y_len-10:y_len-1], mode='full')\n",
    "    autocorr_len = len(autocorr_list)\n",
    "    if autocorr_len % 2 == 1:\n",
    "        sect = int(round((autocorr_len+1)/2))\n",
    "    else:\n",
    "        sect = int(round(autocorr_len/2))\n",
    "    autocorr_list = autocorr_list[autocorr_len-sect:autocorr_len]\n",
    "    q = 0\n",
    "    while True:\n",
    "        if autocorr_list[q] > thresh:\n",
    "            q += 1\n",
    "        if q >= 5:\n",
    "            break\n",
    "    return q"
   ]
  },
  {
   "cell_type": "code",
   "execution_count": 9,
   "metadata": {},
   "outputs": [],
   "source": [
    "def predict(y,start,end):\n",
    "    model=sm.tsa.statespace.SARIMAX(y,order=(determine_p(y, 1e-6), determine_d(y,30), determine_q(y, 100000)), dynamic = True)\n",
    "    results=model.fit()\n",
    "    df_forecast=results.predict(start=start, end=end, dynamic = True)\n",
    "    return results, df_forecast"
   ]
  },
  {
   "cell_type": "code",
   "execution_count": 10,
   "metadata": {},
   "outputs": [
    {
     "name": "stderr",
     "output_type": "stream",
     "text": [
      "/home/hughes/.local/lib/python3.6/site-packages/statsmodels/base/model.py:568: ConvergenceWarning: Maximum Likelihood optimization failed to converge. Check mle_retvals\n",
      "  \"Check mle_retvals\", ConvergenceWarning)\n"
     ]
    },
    {
     "data": {
      "text/plain": [
       "[<matplotlib.lines.Line2D at 0x14c6d9dd8cf8>]"
      ]
     },
     "execution_count": 10,
     "metadata": {},
     "output_type": "execute_result"
    },
    {
     "data": {
      "image/png": "[encoded data removed]",
      "text/plain": [
       "<Figure size 432x288 with 1 Axes>"
      ]
     },
     "metadata": {
      "needs_background": "light"
     },
     "output_type": "display_data"
    }
   ],
   "source": [
    "X = df.loc[:, df.columns != 'deaths']\n",
    "y = df['deaths'].values\n",
    "ordinal_ftrs = ['dates']\n",
    "ordinal_cats = [list(X['date'])]\n",
    "num_ftrs = ['cases']\n",
    "ordinal_transformer = Pipeline(steps=[\n",
    "    ('imputer2', SimpleImputer(strategy='constant',fill_value='NA')),\n",
    "    ('ordinal', OrdinalEncoder(categories = ordinal_cats))])\n",
    "numeric_transformer = Pipeline(steps=[\n",
    "    ('scaler', StandardScaler())])\n",
    "preprocessor = ColumnTransformer(\n",
    "    transformers=[\n",
    "        ('num', numeric_transformer, num_ftrs),\n",
    "        ('ord', ordinal_transformer, ordinal_ftrs)])\n",
    "total_size = len(y)\n",
    "train_ind = int(round(total_size*0.5))\n",
    "val_ind = int(round(total_size*0.1))+train_ind\n",
    "test1_ind = int(round(total_size*0.32))+val_ind\n",
    "y_trunc1 = y[0:250]\n",
    "y_trunc2 = y[250:-1]\n",
    "# model=sm.tsa.statespace.SARIMAX(y,order=(1, 1, 1),seasonal_order=(1,1,1,12))\n",
    "# model = sm.tsa.VARMAX(y, order=(1,1,1))\n",
    "# model=sm.tsa.statespace.SARIMAX(y_trunc1,order=(3, 1, 1))\n",
    "# results=model.fit()\n",
    "# df_forecast=results.predict(start=250,end=310,dynamic=True)\n",
    "results, df_forecast = predict(y_trunc1,250,310)\n",
    "plt.plot(y)\n",
    "plt.plot(range(250,311),df_forecast,color = 'r')\n",
    "# plt.plot(range(248,301),results.predict(start=248,end=300,dynamic=True),color = 'r')"
   ]
  },
  {
   "cell_type": "code",
   "execution_count": null,
   "metadata": {},
   "outputs": [],
   "source": []
  }
 ],
 "metadata": {
  "kernelspec": {
   "display_name": "Python 3",
   "language": "python",
   "name": "python3"
  },
  "language_info": {
   "codemirror_mode": {
    "name": "ipython",
    "version": 3
   },
   "file_extension": ".py",
   "mimetype": "text/x-python",
   "name": "python",
   "nbconvert_exporter": "python",
   "pygments_lexer": "ipython3",
   "version": "3.6.9"
  }
 },
 "nbformat": 4,
 "nbformat_minor": 2
}
