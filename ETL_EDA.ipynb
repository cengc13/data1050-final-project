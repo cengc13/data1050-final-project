{
 "cells": [
  {
   "cell_type": "markdown",
   "metadata": {},
   "source": [
    "# ETL_EDA\n",
    "This file records the process of acquiring raw data, traforming them, and loading them into a MongoDB. The data are store (almost) in their raw form."
   ]
  },
  {
   "cell_type": "markdown",
   "metadata": {},
   "source": [
    "## 1. Raw Data from BPA \n",
    "The [dataset](https://transmission.bpa.gov/business/operations/Wind/baltwg.txt) is a continuously updated txt file in csv format. It contains the energy producation and load in the last 5 days. There will be some blank lines at the end for today. It can be retrieved simply by making `requests` without parameters. For more complicated API call, you may need to add query parameters."
   ]
  },
  {
   "cell_type": "code",
   "execution_count": 1,
   "metadata": {},
   "outputs": [
    {
     "name": "stdout",
     "output_type": "stream",
     "text": [
      "BPA Balancing Authority Load & Total Wind Generation\r\n",
      "at 5-minute intervals, last 7 days\r\n",
      "Dates: 08Nov2020 - 15Nov2020 (last updated 14Nov2020 20:11:01) Pacific Time\r\n",
      "Based on 5-min MW readings from the BPA SCADA system for points 45583, 79687, 79682, 164377, 70681\r\n",
      "\r\n",
      "This represents loads and resources in BPA's Balancing Authority (BA) including some that are not BPA's.\r\n",
      "It does not include BPA loads served by transfer, scheduled out of region,\r\n",
      "or scheduled to customers with their own BAs such as Seattle and Tacoma\r\n",
      "\r\n",
      "BPA/Technical Operations (TOT-OpInfo@bpa.gov)\r\n",
      "\r\n",
      "Date/Time       \tLoad\tWind\tHydro\tFossil/Biomass\tNuclear\r\n",
      "11/08/2020 00:00\t5719\t306\t6249\t545\t1163\r\n",
      "11/08/2020 00:05\t5725\t321\t6300\t583\t1161\r\n",
      "11/08/2020 00:10\t5732\t361\t6237\t638\t1164\r\n",
      "11/08/2020 00:15\t5705\t403\t6195\t681\t1169\r\n",
      "11/08/2020 00:20\t5704\t442\t6156\t692\t1169\r\n",
      "11/08/2020 00:25\t5698\t484\t6097\t714\t1163\r\n",
      "11/08/2020 00:30\t5670\t504\t5999\t729\t1168\r\n",
      "11/08/2020 00:35\t5679\t531\t5903\t784\t1169\r\n",
      "11/08/2020 00:40\t5667\t543\t5802\t831\t1164\r\n",
      "...\n",
      "2020 22:10\t\t\t\t\t\r\n",
      "11/14/2020 22:15\t\t\t\t\t\r\n",
      "11/14/2020 22:20\t\t\t\t\t\r\n",
      "11/14/2020 22:25\t\t\t\t\t\r\n",
      "11/14/2020 22:30\t\t\t\t\t\r\n",
      "11/14/2020 22:35\t\t\t\t\t\r\n",
      "11/14/2020 22:40\t\t\t\t\t\r\n",
      "11/14/2020 22:45\t\t\t\t\t\r\n",
      "11/14/2020 22:50\t\t\t\t\t\r\n",
      "11/14/2020 22:55\t\t\t\t\t\r\n",
      "11/14/2020 23:00\t\t\t\t\t\r\n",
      "11/14/2020 23:05\t\t\t\t\t\r\n",
      "11/14/2020 23:10\t\t\t\t\t\r\n",
      "11/14/2020 23:15\t\t\t\t\t\r\n",
      "11/14/2020 23:20\t\t\t\t\t\r\n",
      "11/14/2020 23:25\t\t\t\t\t\r\n",
      "11/14/2020 23:30\t\t\t\t\t\r\n",
      "11/14/2020 23:35\t\t\t\t\t\r\n",
      "11/14/2020 23:40\t\t\t\t\t\r\n",
      "11/14/2020 23:45\t\t\t\t\t\r\n",
      "11/14/2020 23:50\t\t\t\t\t\r\n",
      "11/14/2020 23:55\t\t\t\t\t\r\n",
      "\n"
     ]
    }
   ],
   "source": [
    "import requests\n",
    "\n",
    "url = \"https://transmission.bpa.gov/business/operations/Wind/baltwg.txt\"\n",
    "req = requests.get(url, timeout=0.5)\n",
    "req.raise_for_status()\n",
    "text = req.text\n",
    "print(text[:1000])\n",
    "print('...')\n",
    "print(text[-500:])"
   ]
  },
  {
   "cell_type": "markdown",
   "metadata": {},
   "source": [
    "## 2. Raw Data to Documents/Dicts\n",
    "Using pandas, it is simple to parse a in-memory string. The first few lines of description need to be skipped. Datetime conversion is made and blank lines are dropped. Now the data can be easily converted to a list of dicts which is what we want for the MongoDB."
   ]
  },
  {
   "cell_type": "code",
   "execution_count": 2,
   "metadata": {},
   "outputs": [
    {
     "data": {
      "text/html": [
       "<div>\n",
       "<style scoped>\n",
       "    .dataframe tbody tr th:only-of-type {\n",
       "        vertical-align: middle;\n",
       "    }\n",
       "\n",
       "    .dataframe tbody tr th {\n",
       "        vertical-align: top;\n",
       "    }\n",
       "\n",
       "    .dataframe thead th {\n",
       "        text-align: right;\n",
       "    }\n",
       "</style>\n",
       "<table border=\"1\" class=\"dataframe\">\n",
       "  <thead>\n",
       "    <tr style=\"text-align: right;\">\n",
       "      <th></th>\n",
       "      <th>Load</th>\n",
       "      <th>Wind</th>\n",
       "      <th>Hydro</th>\n",
       "      <th>Fossil/Biomass</th>\n",
       "      <th>Nuclear</th>\n",
       "      <th>Datetime</th>\n",
       "    </tr>\n",
       "  </thead>\n",
       "  <tbody>\n",
       "    <tr>\n",
       "      <th>0</th>\n",
       "      <td>5719.0</td>\n",
       "      <td>306.0</td>\n",
       "      <td>6249.0</td>\n",
       "      <td>545.0</td>\n",
       "      <td>1163.0</td>\n",
       "      <td>2020-11-08 00:00:00</td>\n",
       "    </tr>\n",
       "    <tr>\n",
       "      <th>1</th>\n",
       "      <td>5725.0</td>\n",
       "      <td>321.0</td>\n",
       "      <td>6300.0</td>\n",
       "      <td>583.0</td>\n",
       "      <td>1161.0</td>\n",
       "      <td>2020-11-08 00:05:00</td>\n",
       "    </tr>\n",
       "    <tr>\n",
       "      <th>2</th>\n",
       "      <td>5732.0</td>\n",
       "      <td>361.0</td>\n",
       "      <td>6237.0</td>\n",
       "      <td>638.0</td>\n",
       "      <td>1164.0</td>\n",
       "      <td>2020-11-08 00:10:00</td>\n",
       "    </tr>\n",
       "    <tr>\n",
       "      <th>3</th>\n",
       "      <td>5705.0</td>\n",
       "      <td>403.0</td>\n",
       "      <td>6195.0</td>\n",
       "      <td>681.0</td>\n",
       "      <td>1169.0</td>\n",
       "      <td>2020-11-08 00:15:00</td>\n",
       "    </tr>\n",
       "    <tr>\n",
       "      <th>4</th>\n",
       "      <td>5704.0</td>\n",
       "      <td>442.0</td>\n",
       "      <td>6156.0</td>\n",
       "      <td>692.0</td>\n",
       "      <td>1169.0</td>\n",
       "      <td>2020-11-08 00:20:00</td>\n",
       "    </tr>\n",
       "  </tbody>\n",
       "</table>\n",
       "</div>"
      ],
      "text/plain": [
       "     Load   Wind   Hydro  Fossil/Biomass  Nuclear            Datetime\n",
       "0  5719.0  306.0  6249.0           545.0   1163.0 2020-11-08 00:00:00\n",
       "1  5725.0  321.0  6300.0           583.0   1161.0 2020-11-08 00:05:00\n",
       "2  5732.0  361.0  6237.0           638.0   1164.0 2020-11-08 00:10:00\n",
       "3  5705.0  403.0  6195.0           681.0   1169.0 2020-11-08 00:15:00\n",
       "4  5704.0  442.0  6156.0           692.0   1169.0 2020-11-08 00:20:00"
      ]
     },
     "execution_count": 2,
     "metadata": {},
     "output_type": "execute_result"
    }
   ],
   "source": [
    "import pandas\n",
    "from io import StringIO\n",
    "\n",
    "df = pandas.read_csv(StringIO(text), skiprows=11, delimiter='\\t')\n",
    "df.columns = df.columns.str.strip()             # remove space in columns name\n",
    "df['Datetime'] = pandas.to_datetime(df['Date/Time'])\n",
    "df.drop(columns=['Date/Time'], axis=1, inplace=True)\n",
    "df.dropna(inplace=True)  \n",
    "df.head()"
   ]
  },
  {
   "cell_type": "markdown",
   "metadata": {},
   "source": [
    "## 3. Upsert MongoDB\n",
    "If we fetch the data frequently, there are lots of duplicate data entry between each run. The de-duplication happens at insertion. The MongoDB API to use is `collection.replace_one(filter=..., replacement=..., upsert=True)`. The statement matches a document in MongoDB with `filter`, replaces it with `replacement` if the document exists or inserts `replacement` into the database if `filter` matches nothing. "
   ]
  },
  {
   "cell_type": "code",
   "execution_count": 3,
   "metadata": {},
   "outputs": [],
   "source": [
    "import pymongo\n",
    "\n",
    "client = pymongo.MongoClient()"
   ]
  },
  {
   "cell_type": "code",
   "execution_count": 4,
   "metadata": {},
   "outputs": [
    {
     "name": "stdout",
     "output_type": "stream",
     "text": [
      "rows=1971, update=1971, insert=0\n"
     ]
    }
   ],
   "source": [
    "db = client.get_database(\"energy\")\n",
    "collection = db.get_collection(\"energy\")\n",
    "update_count = 0\n",
    "for record in df.to_dict('records'):\n",
    "    result = collection.replace_one(\n",
    "        filter={'Datetime': record['Datetime']},    # locate the document if exists\n",
    "        replacement=record,                         # latest document\n",
    "        upsert=True)                                # update if exists, insert if not\n",
    "    if result.matched_count > 0:\n",
    "        update_count += 1\n",
    "print(f\"rows={df.shape[0]}, update={update_count}, \"\n",
    "      f\"insert={df.shape[0]-update_count}\")"
   ]
  },
  {
   "cell_type": "code",
   "execution_count": null,
   "metadata": {},
   "outputs": [],
   "source": []
  }
 ],
 "metadata": {
  "kernelspec": {
   "display_name": "Python 3",
   "language": "python",
   "name": "python3"
  },
  "language_info": {
   "codemirror_mode": {
    "name": "ipython",
    "version": 3
   },
   "file_extension": ".py",
   "mimetype": "text/x-python",
   "name": "python",
   "nbconvert_exporter": "python",
   "pygments_lexer": "ipython3",
   "version": "3.8.6"
  }
 },
 "nbformat": 4,
 "nbformat_minor": 1
}
